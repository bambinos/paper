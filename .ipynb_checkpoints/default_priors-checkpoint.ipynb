{
 "cells": [
  {
   "cell_type": "markdown",
   "metadata": {},
   "source": [
    "# Multi-level Regression"
   ]
  },
  {
   "cell_type": "code",
   "execution_count": 1,
   "metadata": {},
   "outputs": [],
   "source": [
    "import arviz as az\n",
    "import bambi as bmb\n",
    "import numpy as np\n",
    "import matplotlib.pyplot as plt\n",
    "import matplotlib.lines as mlines\n",
    "import statsmodels.api as sm"
   ]
  },
  {
   "cell_type": "code",
   "execution_count": 2,
   "metadata": {},
   "outputs": [],
   "source": [
    "az.style.use('arviz-darkgrid')\n",
    "np.random.seed(1234)"
   ]
  },
  {
   "cell_type": "code",
   "execution_count": 3,
   "metadata": {
    "ExecuteTime": {
     "end_time": "2019-04-13T18:20:19.148563Z",
     "start_time": "2019-04-13T18:20:18.285823Z"
    }
   },
   "outputs": [],
   "source": [
    "data = sm.datasets.get_rdataset('dietox', 'geepack').data"
   ]
  },
  {
   "cell_type": "code",
   "execution_count": null,
   "metadata": {
    "ExecuteTime": {
     "end_time": "2019-04-13T18:31:24.246456Z",
     "start_time": "2019-04-13T18:27:54.440092Z"
    }
   },
   "outputs": [
    {
     "name": "stderr",
     "output_type": "stream",
     "text": [
      "Auto-assigning NUTS sampler...\n",
      "Initializing NUTS using jitter+adapt_diag...\n",
      "Multiprocess sampling (2 chains in 2 jobs)\n",
      "NUTS: [Weight_sigma, Time|Pig_offset, Time|Pig_sigma, 1|Pig_offset, 1|Pig_sigma, Time, Intercept]\n"
     ]
    },
    {
     "data": {
      "text/html": [
       "\n",
       "    <div>\n",
       "        <style>\n",
       "            /* Turns off some styling */\n",
       "            progress {\n",
       "                /* gets rid of default border in Firefox and Opera. */\n",
       "                border: none;\n",
       "                /* Needs to be in here for Safari polyfill so background images work as expected. */\n",
       "                background-size: auto;\n",
       "            }\n",
       "            .progress-bar-interrupted, .progress-bar-interrupted::-webkit-progress-bar {\n",
       "                background: #F44336;\n",
       "            }\n",
       "        </style>\n",
       "      <progress value='4000' class='' max='4000' style='width:300px; height:20px; vertical-align: middle;'></progress>\n",
       "      100.00% [4000/4000 00:28<00:00 Sampling 2 chains, 0 divergences]\n",
       "    </div>\n",
       "    "
      ],
      "text/plain": [
       "<IPython.core.display.HTML object>"
      ]
     },
     "metadata": {},
     "output_type": "display_data"
    },
    {
     "name": "stderr",
     "output_type": "stream",
     "text": [
      "Sampling 2 chains for 1_000 tune and 1_000 draw iterations (2_000 + 2_000 draws total) took 30 seconds.\n",
      "The number of effective samples is smaller than 25% for some parameters.\n",
      "Auto-assigning NUTS sampler...\n",
      "Initializing NUTS using jitter+adapt_diag...\n",
      "Multiprocess sampling (2 chains in 2 jobs)\n",
      "NUTS: [Weight_sigma, Time|Pig_offset, Time|Pig_sigma, 1|Pig_offset, 1|Pig_sigma, Time, Intercept]\n"
     ]
    },
    {
     "data": {
      "text/html": [
       "\n",
       "    <div>\n",
       "        <style>\n",
       "            /* Turns off some styling */\n",
       "            progress {\n",
       "                /* gets rid of default border in Firefox and Opera. */\n",
       "                border: none;\n",
       "                /* Needs to be in here for Safari polyfill so background images work as expected. */\n",
       "                background-size: auto;\n",
       "            }\n",
       "            .progress-bar-interrupted, .progress-bar-interrupted::-webkit-progress-bar {\n",
       "                background: #F44336;\n",
       "            }\n",
       "        </style>\n",
       "      <progress value='272' class='' max='4000' style='width:300px; height:20px; vertical-align: middle;'></progress>\n",
       "      6.80% [272/4000 00:05<01:14 Sampling 2 chains, 0 divergences]\n",
       "    </div>\n",
       "    "
      ],
      "text/plain": [
       "<IPython.core.display.HTML object>"
      ]
     },
     "metadata": {},
     "output_type": "display_data"
    }
   ],
   "source": [
    "prior_dict = {\n",
    "    'Intercept': 'superwide', \n",
    "    'Time': 'superwide',\n",
    "    '1|Pig_sigma': 'superwide', \n",
    "    'Time|Pig_sigma': 'superwide', \n",
    "    'Weight_sigma': 'superwide'\n",
    "}\n",
    "model1 = bmb.Model(data)\n",
    "results = model1.fit('Weight ~ Time + (Time|Pig)', priors=prior_dict)\n",
    "\n",
    "model2 = bmb.Model(data)\n",
    "results = model2.fit('Weight ~ Time + (Time|Pig)')\n",
    "\n",
    "\n",
    "prior_dict = {\n",
    "    'Intercept': 'medium', \n",
    "    'Time': 'medium',\n",
    "    '1|Pig_sigma': 'medium', \n",
    "    'Time|Pig_sigma': 'medium', \n",
    "    'Weight_sigma': 'medium'\n",
    "}\n",
    "model3 = bmb.Model(data)\n",
    "results = model3.fit('Weight ~ Time + (Time|Pig)', priors=prior_dict)\n",
    "\n",
    "prior_dict = {\n",
    "    'Intercept': 'narrow', \n",
    "    'Time': 'narrow',\n",
    "    '1|Pig_sigma': 'narrow', \n",
    "    'Time|Pig_sigma': 'narrow', \n",
    "    'Weight_sigma': 'narrow'\n",
    "}\n",
    "model4 = bmb.Model(data)\n",
    "results = model4.fit('Weight ~ Time + (Time|Pig)', priors=prior_dict)"
   ]
  },
  {
   "cell_type": "code",
   "execution_count": null,
   "metadata": {},
   "outputs": [],
   "source": [
    "draws = 5000\n",
    "random_seed = 1234\n",
    "var_names = ['Intercept', 'Time', '1|Pig_sigma', 'Time|Pig_sigma']"
   ]
  },
  {
   "cell_type": "code",
   "execution_count": null,
   "metadata": {},
   "outputs": [],
   "source": [
    "pps1 = model1.prior_predictive(draws=draws, var_names=var_names, random_seed=random_seed)\n",
    "pps2 = model2.prior_predictive(draws=draws, var_names=var_names, random_seed=random_seed)\n",
    "pps3 = model3.prior_predictive(draws=draws, var_names=var_names, random_seed=random_seed)\n",
    "pps4 = model4.prior_predictive(draws=draws, var_names=var_names, random_seed=random_seed)\n",
    "\n",
    "colors = [\"#2A2EEC\", \"#FA7C17\", \"#328C06\", \"#C10C90\"]\n",
    "labels = [\"superwide\", \"wide\", \"medium\", \"narrow\"]\n",
    "handles = []\n",
    "\n",
    "fig, ax = plt.subplots(2, 2)\n",
    "\n",
    "for idx, pps in enumerate([pps1, pps2, pps3, pps4]):\n",
    "    ax = az.plots.plot_posterior(\n",
    "        pps,\n",
    "        group=\"prior\",\n",
    "        round_to=2,\n",
    "        hdi_prob=\"hide\",\n",
    "        point_estimate=None,\n",
    "        kind=\"kde\",\n",
    "        ax=ax,\n",
    "        color=f\"C{idx}\",\n",
    "        textsize=9\n",
    "    )\n",
    "    handles.append(mlines.Line2D([], [], color=colors[idx], label=labels[idx], lw=2)) \n",
    "\n",
    "plt.legend(handles=handles, loc=\"upper right\", fontsize=9);    \n",
    "plt.savefig(\"imgs/pigs_priors.png\")  "
   ]
  }
 ],
 "metadata": {
  "kernelspec": {
   "display_name": "bmb",
   "language": "python",
   "name": "bmb"
  },
  "language_info": {
   "codemirror_mode": {
    "name": "ipython",
    "version": 3
   },
   "file_extension": ".py",
   "mimetype": "text/x-python",
   "name": "python",
   "nbconvert_exporter": "python",
   "pygments_lexer": "ipython3",
   "version": "3.8.5"
  }
 },
 "nbformat": 4,
 "nbformat_minor": 4
}
